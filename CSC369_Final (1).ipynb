{
  "nbformat": 4,
  "nbformat_minor": 0,
  "metadata": {
    "colab": {
      "name": "CSC369 Final.ipynb",
      "provenance": []
    },
    "kernelspec": {
      "name": "python3",
      "display_name": "Python 3"
    },
    "language_info": {
      "name": "python"
    }
  },
  "cells": [
    {
      "cell_type": "markdown",
      "source": [
        "# Introduction"
      ],
      "metadata": {
        "id": "Dp8bqm2fUaYL"
      }
    },
    {
      "cell_type": "markdown",
      "source": [
        "I am very interested in basketball and the analytics that can be done to understand how the game is played. So I searched online for a comprehensive dataset with data from the NBA that I could take a look at and better understand. What I came across was a massive dataset encompassing information from the entirety of the NBA's history. With this dataset I hope to look at and better understand how, in various ways, the game has changed over time. So, by aggregating the data and looking at how different stats have changed year by year, the goal is to produce different visualizations and numbers to describe how certain aspects of basketball games have trended throughout history."
      ],
      "metadata": {
        "id": "UZorw_MZWuGx"
      }
    },
    {
      "cell_type": "code",
      "source": [
        "!pip install pyspark\n",
        "!pip install -U -q PyDrive\n",
        "!apt install openjdk-8-jdk-headless -qq\n",
        "import os\n",
        "os.environ[\"JAVA_HOME\"] = \"/usr/lib/jvm/java-8-openjdk-amd64\""
      ],
      "metadata": {
        "id": "vt-sAJpDPCAT"
      },
      "execution_count": null,
      "outputs": []
    },
    {
      "cell_type": "code",
      "source": [
        "from pyspark import SparkContext, SparkConf\n",
        "from pyspark.sql import SparkSession, SQLContext\n",
        "from pyspark.sql import types as sparktypes\n",
        "from pyspark.sql.functions import col\n",
        "\n",
        "sc = SparkContext() \n",
        "spark = SparkSession(sc)"
      ],
      "metadata": {
        "id": "QXtT9lmmPEqa"
      },
      "execution_count": null,
      "outputs": []
    },
    {
      "cell_type": "markdown",
      "source": [
        "# Dataset\n",
        "\n",
        "The dataset for this project was found on Kaggle at: https://www.kaggle.com/datasets/wyattowalsh/basketball?resource=download\n",
        "\n",
        "The dataset is updated daily with data on all games, teams and players in NBA history. The dataset I will primarily be focusing on is entitled 'Game' and contains information (149 features) on more than 60,000 games that have been played over the 75 year history of the nba."
      ],
      "metadata": {
        "id": "qBrC_TMIRr6H"
      }
    },
    {
      "cell_type": "code",
      "source": [
        "# Imports\n",
        "import numpy as np\n",
        "import pandas as pd\n",
        "import sqlite3 as sql\n",
        "import plotly.express as px\n",
        "import os"
      ],
      "metadata": {
        "id": "g9S-bUVyXVAv"
      },
      "execution_count": null,
      "outputs": []
    },
    {
      "cell_type": "markdown",
      "source": [
        "The dataset was provided as an SQLite file on Kaggle. I will read it in as a Pandas dataframe so I can subset the data (years after 2010), and convert it to a CSV that will be read into PySpark."
      ],
      "metadata": {
        "id": "EVmR_MsxKQ7L"
      }
    },
    {
      "cell_type": "code",
      "execution_count": null,
      "metadata": {
        "id": "OsAA_RElQ-bS"
      },
      "outputs": [],
      "source": [
        "# Reading in the dataset from the sqlite file downloaded from Kaggle into a Pandas dataframe\n",
        "# Converted the dataframe to a CSV to make it easier to read into PySpark\n",
        "db_path = '/content/drive/MyDrive/CSC369/Final/basketball.sqlite'\n",
        "connection = sql.connect(db_path)\n",
        "table = pd.read_sql_query(\"SELECT * FROM Game\", connection)\n",
        "# Subsetting the data to all games after the year 2010 (Exclusive)\n",
        "table = table.loc[pd.to_datetime(table.GAME_DATE).dt.year>2010]\n",
        "table.to_csv('database.csv', header=False)"
      ]
    },
    {
      "cell_type": "code",
      "source": [
        "# Reading the data into a PySpark DataFrame\n",
        "csv_path = '/content/database.csv'\n",
        "db = spark.read.options(delimiter=\",\").csv(csv_path)\n",
        "db.printSchema()"
      ],
      "metadata": {
        "id": "PK6h_mq9XAC7",
        "colab": {
          "base_uri": "https://localhost:8080/"
        },
        "outputId": "dbc46b56-494a-4509-8767-73e5da840e98"
      },
      "execution_count": null,
      "outputs": [
        {
          "output_type": "stream",
          "name": "stdout",
          "text": [
            "root\n",
            " |-- _c0: string (nullable = true)\n",
            " |-- _c1: string (nullable = true)\n",
            " |-- _c2: string (nullable = true)\n",
            " |-- _c3: string (nullable = true)\n",
            " |-- _c4: string (nullable = true)\n",
            " |-- _c5: string (nullable = true)\n",
            " |-- _c6: string (nullable = true)\n",
            " |-- _c7: string (nullable = true)\n",
            " |-- _c8: string (nullable = true)\n",
            " |-- _c9: string (nullable = true)\n",
            " |-- _c10: string (nullable = true)\n",
            " |-- _c11: string (nullable = true)\n",
            " |-- _c12: string (nullable = true)\n",
            " |-- _c13: string (nullable = true)\n",
            " |-- _c14: string (nullable = true)\n",
            " |-- _c15: string (nullable = true)\n",
            " |-- _c16: string (nullable = true)\n",
            " |-- _c17: string (nullable = true)\n",
            " |-- _c18: string (nullable = true)\n",
            " |-- _c19: string (nullable = true)\n",
            " |-- _c20: string (nullable = true)\n",
            " |-- _c21: string (nullable = true)\n",
            " |-- _c22: string (nullable = true)\n",
            " |-- _c23: string (nullable = true)\n",
            " |-- _c24: string (nullable = true)\n",
            " |-- _c25: string (nullable = true)\n",
            " |-- _c26: string (nullable = true)\n",
            " |-- _c27: string (nullable = true)\n",
            " |-- _c28: string (nullable = true)\n",
            " |-- _c29: string (nullable = true)\n",
            " |-- _c30: string (nullable = true)\n",
            " |-- _c31: string (nullable = true)\n",
            " |-- _c32: string (nullable = true)\n",
            " |-- _c33: string (nullable = true)\n",
            " |-- _c34: string (nullable = true)\n",
            " |-- _c35: string (nullable = true)\n",
            " |-- _c36: string (nullable = true)\n",
            " |-- _c37: string (nullable = true)\n",
            " |-- _c38: string (nullable = true)\n",
            " |-- _c39: string (nullable = true)\n",
            " |-- _c40: string (nullable = true)\n",
            " |-- _c41: string (nullable = true)\n",
            " |-- _c42: string (nullable = true)\n",
            " |-- _c43: string (nullable = true)\n",
            " |-- _c44: string (nullable = true)\n",
            " |-- _c45: string (nullable = true)\n",
            " |-- _c46: string (nullable = true)\n",
            " |-- _c47: string (nullable = true)\n",
            " |-- _c48: string (nullable = true)\n",
            " |-- _c49: string (nullable = true)\n",
            " |-- _c50: string (nullable = true)\n",
            " |-- _c51: string (nullable = true)\n",
            " |-- _c52: string (nullable = true)\n",
            " |-- _c53: string (nullable = true)\n",
            " |-- _c54: string (nullable = true)\n",
            " |-- _c55: string (nullable = true)\n",
            " |-- _c56: string (nullable = true)\n",
            " |-- _c57: string (nullable = true)\n",
            " |-- _c58: string (nullable = true)\n",
            " |-- _c59: string (nullable = true)\n",
            " |-- _c60: string (nullable = true)\n",
            " |-- _c61: string (nullable = true)\n",
            " |-- _c62: string (nullable = true)\n",
            " |-- _c63: string (nullable = true)\n",
            " |-- _c64: string (nullable = true)\n",
            " |-- _c65: string (nullable = true)\n",
            " |-- _c66: string (nullable = true)\n",
            " |-- _c67: string (nullable = true)\n",
            " |-- _c68: string (nullable = true)\n",
            " |-- _c69: string (nullable = true)\n",
            " |-- _c70: string (nullable = true)\n",
            " |-- _c71: string (nullable = true)\n",
            " |-- _c72: string (nullable = true)\n",
            " |-- _c73: string (nullable = true)\n",
            " |-- _c74: string (nullable = true)\n",
            " |-- _c75: string (nullable = true)\n",
            " |-- _c76: string (nullable = true)\n",
            " |-- _c77: string (nullable = true)\n",
            " |-- _c78: string (nullable = true)\n",
            " |-- _c79: string (nullable = true)\n",
            " |-- _c80: string (nullable = true)\n",
            " |-- _c81: string (nullable = true)\n",
            " |-- _c82: string (nullable = true)\n",
            " |-- _c83: string (nullable = true)\n",
            " |-- _c84: string (nullable = true)\n",
            " |-- _c85: string (nullable = true)\n",
            " |-- _c86: string (nullable = true)\n",
            " |-- _c87: string (nullable = true)\n",
            " |-- _c88: string (nullable = true)\n",
            " |-- _c89: string (nullable = true)\n",
            " |-- _c90: string (nullable = true)\n",
            " |-- _c91: string (nullable = true)\n",
            " |-- _c92: string (nullable = true)\n",
            " |-- _c93: string (nullable = true)\n",
            " |-- _c94: string (nullable = true)\n",
            " |-- _c95: string (nullable = true)\n",
            " |-- _c96: string (nullable = true)\n",
            " |-- _c97: string (nullable = true)\n",
            " |-- _c98: string (nullable = true)\n",
            " |-- _c99: string (nullable = true)\n",
            " |-- _c100: string (nullable = true)\n",
            " |-- _c101: string (nullable = true)\n",
            " |-- _c102: string (nullable = true)\n",
            " |-- _c103: string (nullable = true)\n",
            " |-- _c104: string (nullable = true)\n",
            " |-- _c105: string (nullable = true)\n",
            " |-- _c106: string (nullable = true)\n",
            " |-- _c107: string (nullable = true)\n",
            " |-- _c108: string (nullable = true)\n",
            " |-- _c109: string (nullable = true)\n",
            " |-- _c110: string (nullable = true)\n",
            " |-- _c111: string (nullable = true)\n",
            " |-- _c112: string (nullable = true)\n",
            " |-- _c113: string (nullable = true)\n",
            " |-- _c114: string (nullable = true)\n",
            " |-- _c115: string (nullable = true)\n",
            " |-- _c116: string (nullable = true)\n",
            " |-- _c117: string (nullable = true)\n",
            " |-- _c118: string (nullable = true)\n",
            " |-- _c119: string (nullable = true)\n",
            " |-- _c120: string (nullable = true)\n",
            " |-- _c121: string (nullable = true)\n",
            " |-- _c122: string (nullable = true)\n",
            " |-- _c123: string (nullable = true)\n",
            " |-- _c124: string (nullable = true)\n",
            " |-- _c125: string (nullable = true)\n",
            " |-- _c126: string (nullable = true)\n",
            " |-- _c127: string (nullable = true)\n",
            " |-- _c128: string (nullable = true)\n",
            " |-- _c129: string (nullable = true)\n",
            " |-- _c130: string (nullable = true)\n",
            " |-- _c131: string (nullable = true)\n",
            " |-- _c132: string (nullable = true)\n",
            " |-- _c133: string (nullable = true)\n",
            " |-- _c134: string (nullable = true)\n",
            " |-- _c135: string (nullable = true)\n",
            " |-- _c136: string (nullable = true)\n",
            " |-- _c137: string (nullable = true)\n",
            " |-- _c138: string (nullable = true)\n",
            " |-- _c139: string (nullable = true)\n",
            " |-- _c140: string (nullable = true)\n",
            " |-- _c141: string (nullable = true)\n",
            " |-- _c142: string (nullable = true)\n",
            " |-- _c143: string (nullable = true)\n",
            " |-- _c144: string (nullable = true)\n",
            " |-- _c145: string (nullable = true)\n",
            " |-- _c146: string (nullable = true)\n",
            " |-- _c147: string (nullable = true)\n",
            " |-- _c148: string (nullable = true)\n",
            " |-- _c149: string (nullable = true)\n",
            "\n"
          ]
        }
      ]
    },
    {
      "cell_type": "markdown",
      "source": [
        "# Questions"
      ],
      "metadata": {
        "id": "HOxCu1RCUg3M"
      }
    },
    {
      "cell_type": "markdown",
      "source": [
        "The broad overarching question for this data set will be \"What, if at all, are the effects of home court advantage?\"\n",
        "\n",
        "Some more specific articulations of this question will be as follows:\n",
        "  * Do home teams win more often than the road team?\n",
        "  * Do referees call more fouls on road teams than the home team?\n",
        "    * More specifically does the home team typically get more free throws than the road team?\n",
        "  * Are the effects of home court advantage the same during nationally televised games?\n",
        "    * That is, are the trends in the previous questions the same? More pronounced?\n",
        "  * Which teams have the biggest home court advantage?\n",
        "    * That is, over the past decade or so, which teams have the biggest differential in win percentage?"
      ],
      "metadata": {
        "id": "JhHKeAhZUx9p"
      }
    },
    {
      "cell_type": "markdown",
      "source": [
        "# Problem Decomposition"
      ],
      "metadata": {
        "id": "HnLrpiRlUhAd"
      }
    },
    {
      "cell_type": "markdown",
      "source": [
        "Before addressing the questions, I subset the columns in the dataset to just the columns I planned to use for the analysis. The columns and their descriptions are as follows:\n",
        "\n",
        "TEAM_ABBREVIATION_HOME: The home team's abbreviated name\n",
        "\n",
        "TEAM_ABBREVIATION_AWAY: The away team's abbreviated name\n",
        "\n",
        "GAME_DATE: The date the game was played\n",
        "\n",
        "WL_HOME: The game result for the home team\n",
        "\n",
        "FTA_HOME: The number of free throws attempted for the home team\n",
        "\n",
        "PF_HOME: The number of fouls called on the home team\n",
        "\n",
        "WL_AWAY: The games result for the away team\n",
        "\n",
        "FTA_AWAY: The number of free throws attempted for the away team\n",
        "\n",
        "PF_AWAY: The number of fouls called on the away team\n",
        "\n",
        "NATL_TV_BROADCASTER_ABBR: The abbreviated name for the National Television Broadcaster, Null if it wasn't broadcasted nationally\n",
        "\n",
        "All the questions were approached using functions on PySpark DataFrames"
      ],
      "metadata": {
        "id": "gy4-uwiKjlf_"
      }
    },
    {
      "cell_type": "code",
      "source": [
        "# Selecting the necessary columns to answer the questions\n",
        "game_df = db.select(col('_c4').alias('TEAM_ABBREVIATION_HOME'),\n",
        "          col('_c31').alias('TEAM_ABBREVIATION_AWAY'),\n",
        "          col('_c6').alias('GAME_DATE'),\n",
        "          col('_c8').alias('WL_HOME'),\n",
        "          col('_c17').cast('integer').alias('FTA_HOME'),\n",
        "          col('_c26').cast('integer').alias('PF_HOME'),\n",
        "          col('_c34').alias('WL_AWAY'),\n",
        "          col('_c43').cast('integer').alias('FTA_AWAY'),\n",
        "          col('_c52').cast('integer').alias('PF_AWAY'),\n",
        "          col('_c66').alias('NATL_TV_BROADCASTER_ABBR')\n",
        "          )\n",
        "\n",
        "game_df.show()"
      ],
      "metadata": {
        "id": "N5reKkk2LBNh",
        "colab": {
          "base_uri": "https://localhost:8080/"
        },
        "outputId": "3d3af8c3-7d4c-4bd8-a038-b032c6f781fd"
      },
      "execution_count": null,
      "outputs": [
        {
          "output_type": "stream",
          "name": "stdout",
          "text": [
            "+----------------------+----------------------+----------+-------+--------+-------+-------+--------+-------+------------------------+\n",
            "|TEAM_ABBREVIATION_HOME|TEAM_ABBREVIATION_AWAY| GAME_DATE|WL_HOME|FTA_HOME|PF_HOME|WL_AWAY|FTA_AWAY|PF_AWAY|NATL_TV_BROADCASTER_ABBR|\n",
            "+----------------------+----------------------+----------+-------+--------+-------+-------+--------+-------+------------------------+\n",
            "|                   SAS|                   OKC|2011-01-01|      W|      16|     20|      L|      24|     17|                    null|\n",
            "|                   CHI|                   CLE|2011-01-01|      W|      32|     20|      L|      25|     21|                    null|\n",
            "|                   MIA|                   GSW|2011-01-01|      W|      47|     12|      L|      16|     31|                    null|\n",
            "|                   UTA|                   MEM|2011-01-01|      W|      35|     19|      L|      27|     27|                    null|\n",
            "|                   MIL|                   DAL|2011-01-01|      W|      25|     18|      L|      22|     23|                    null|\n",
            "|                   DEN|                   SAC|2011-01-01|      W|      26|     18|      L|      15|     22|                    null|\n",
            "|                   MIN|                   NJN|2011-01-01|      W|      28|     28|      L|      28|     22|                    null|\n",
            "|                   WAS|                   NOH|2011-01-01|      L|      11|     20|      W|      21|     14|                    null|\n",
            "|                   NYK|                   IND|2011-01-02|      W|      40|     17|      L|      19|     26|                    null|\n",
            "|                   LAC|                   ATL|2011-01-02|      L|      29|     25|      W|      40|     24|                    null|\n",
            "|                   CLE|                   DAL|2011-01-02|      L|      13|     23|      W|      22|     13|                    null|\n",
            "|                   POR|                   HOU|2011-01-02|      W|      19|     21|      L|      24|     13|                  NBA TV|\n",
            "|                   SAC|                   PHX|2011-01-02|      W|      27|     19|      L|      15|     25|                    null|\n",
            "|                   TOR|                   BOS|2011-01-02|      L|      22|     22|      W|      19|     18|                    null|\n",
            "|                   LAL|                   MEM|2011-01-02|      L|      18|     15|      W|      20|     16|                    null|\n",
            "|                   BOS|                   MIN|2011-01-03|      W|      20|     18|      L|      22|     18|                    null|\n",
            "|                   ORL|                   GSW|2011-01-03|      W|      25|     15|      L|      13|     25|                    null|\n",
            "|                   UTA|                   DET|2011-01-03|      W|      32|     18|      L|      21|     23|                    null|\n",
            "|                   DEN|                   HOU|2011-01-03|      W|      40|     22|      L|      21|     28|                    null|\n",
            "|                   NOH|                   PHI|2011-01-03|      W|      22|     19|      L|      14|     17|                  NBA TV|\n",
            "+----------------------+----------------------+----------+-------+--------+-------+-------+--------+-------+------------------------+\n",
            "only showing top 20 rows\n",
            "\n"
          ]
        }
      ]
    },
    {
      "cell_type": "markdown",
      "source": [
        "To answer the first question of whether or not home teams win more often than road teams, I first counted the total number of games in the dataset and saved it in a variable called \"tot\". To get the counts of wins and losses for the home team, I used a groupby on the column indicating the game result for the home team and counted the values in that column, which were only W's and L's. Using those counts I also included a column with the proportions for both the Wins and the Losses."
      ],
      "metadata": {
        "id": "RJzNyiqrlGZj"
      }
    },
    {
      "cell_type": "code",
      "source": [
        "import pyspark.sql.functions as func\n",
        "\n",
        "tot = game_df.na.drop(subset=[\"WL_HOME\"]).count()\n",
        "res1 = game_df.na.drop(subset=[\"WL_HOME\"]).groupBy(\"WL_HOME\").agg(func.count(func.lit(1)).alias(\"Win Loss Counts for Home Team\")) \\\n",
        ".withColumn('Win Loss Percentage for Home Team', (func.col('Win Loss Counts for Home Team')/tot))"
      ],
      "metadata": {
        "id": "2bYbuMVFp3Kz"
      },
      "execution_count": null,
      "outputs": []
    },
    {
      "cell_type": "markdown",
      "source": [
        "To look at how Home and Away teams differed in terms of their free throws attempted and their fouls, I just used the mean function from PySpark.Sql to take the average of the columns for each respective stat for both home and away."
      ],
      "metadata": {
        "id": "50sb3Pg6mVcy"
      }
    },
    {
      "cell_type": "code",
      "source": [
        "res2 = game_df.select(func.mean(col(\"FTA_HOME\")).alias('Home Free Throws'),\n",
        "               func.mean(col(\"FTA_AWAY\")).alias('Away Free Throws'),\n",
        "               func.mean(col(\"PF_HOME\")).alias('Home Fouls'),\n",
        "               func.mean(col(\"PF_AWAY\")).alias('Away Fouls'))"
      ],
      "metadata": {
        "id": "tkwCdX1WsRqH"
      },
      "execution_count": null,
      "outputs": []
    },
    {
      "cell_type": "markdown",
      "source": [
        "To look at nationally broadcasted games, I started by subsetting the dataframe for all rows that were not null in the \"NATL_TV_BROADCASTER_ABBR\" column. Then, similarly to how I found the win/loss counts for the first question and their corresponding proportions, I started by saving the counts for the total number of nationally televised games played. Then, I grouped by the game result for the home team and found the counts and proportions for each result the same way as before."
      ],
      "metadata": {
        "id": "kdpZRRy4mlBC"
      }
    },
    {
      "cell_type": "code",
      "source": [
        "tot = game_df.na.drop(subset=[\"NATL_TV_BROADCASTER_ABBR\", \"WL_HOME\"]).count()\n",
        "res3 = game_df.na.drop(subset=[\"NATL_TV_BROADCASTER_ABBR\", \"WL_HOME\"]).groupBy(\"WL_HOME\").agg(func.count(func.lit(1)).alias(\"Win Loss Counts for Home Team\")) \\\n",
        ".withColumn('Win Loss Percentage for Home Team', (func.col('Win Loss Counts for Home Team')/tot))"
      ],
      "metadata": {
        "id": "G9IliQNoxGkT"
      },
      "execution_count": null,
      "outputs": []
    },
    {
      "cell_type": "markdown",
      "source": [
        "To dive a bit deeper in how national broadcasts affect win percentage for home teams, I grouped by both the broadcaster and the win loss result to get the win percentage for the home teams for each specific broadcast. To aggregate on multiple groupby's I used PySpark.sql Windows and ran those aggregation functions over those windows."
      ],
      "metadata": {
        "id": "3T7LC-uAnUvL"
      }
    },
    {
      "cell_type": "code",
      "source": [
        "from pyspark.sql import Window\n",
        "w1 = Window.partitionBy(game_df.NATL_TV_BROADCASTER_ABBR, game_df.WL_HOME)\n",
        "w2 = Window.partitionBy(game_df.NATL_TV_BROADCASTER_ABBR)\n",
        "\n",
        "res4 = game_df.na.drop(subset=[\"NATL_TV_BROADCASTER_ABBR\", \"WL_HOME\"]).withColumn('WL_PCT', func.count(game_df.WL_HOME).over(w1)/func.count(game_df.WL_HOME).over(w2)) \\\n",
        "      .withColumn('GAME_COUNT', func.count(game_df.WL_HOME).over(w2))\n",
        "res4 = res4.select(res4.NATL_TV_BROADCASTER_ABBR, res4.WL_HOME, res4.GAME_COUNT, res4.WL_PCT).distinct()"
      ],
      "metadata": {
        "id": "jCyEwKSt0r0a"
      },
      "execution_count": null,
      "outputs": []
    },
    {
      "cell_type": "markdown",
      "source": [
        "To look at each team's individual home court advantage, I found each team's win percentages at home and away. I did this by running groupbys on the team abbreviations for both home and away in two separate dataframes. Using the same strategy as the previous problem with Windows to aggregate over multiple groupby's I got the win percentages for each team at home and away. I then joined these two dataframes on the team abbreviation to get a single dataframe with the win percentages home and away for each team. I also created a new column with the difference in home and away win percentage to see the affect of home court advantage."
      ],
      "metadata": {
        "id": "lstjbLm2oZ5R"
      }
    },
    {
      "cell_type": "code",
      "source": [
        "w1 = Window.partitionBy(game_df.TEAM_ABBREVIATION_HOME, game_df.WL_HOME)\n",
        "w2 = Window.partitionBy(game_df.TEAM_ABBREVIATION_HOME)\n",
        "\n",
        "res5 = game_df.na.drop(subset=[\"TEAM_ABBREVIATION_HOME\", \"WL_HOME\"]).withColumn('WL_PCT_HOME', func.count(game_df.WL_HOME).over(w1)/func.count(game_df.WL_HOME).over(w2)) \\\n",
        "      .withColumn('WL_COUNT_HOME', func.count(game_df.WL_HOME).over(w1))\n",
        "res5 = res5.select(res5.TEAM_ABBREVIATION_HOME, res5.WL_HOME, res5.WL_COUNT_HOME, res5.WL_PCT_HOME).distinct().where(col(\"WL_HOME\")==\"W\").sort(\"WL_PCT_HOME\", ascending=False)\n",
        "\n",
        "w1 = Window.partitionBy(game_df.TEAM_ABBREVIATION_AWAY, game_df.WL_AWAY)\n",
        "w2 = Window.partitionBy(game_df.TEAM_ABBREVIATION_AWAY)\n",
        "\n",
        "res6 = game_df.na.drop(subset=[\"TEAM_ABBREVIATION_AWAY\", \"WL_AWAY\"]).withColumn('WL_PCT_AWAY', func.count(game_df.WL_AWAY).over(w1)/func.count(game_df.WL_AWAY).over(w2)) \\\n",
        "      .withColumn('WL_COUNT_AWAY', func.count(game_df.WL_AWAY).over(w1))\n",
        "res6 = res6.select(res6.TEAM_ABBREVIATION_AWAY, res6.WL_AWAY, res6.WL_COUNT_AWAY, res6.WL_PCT_AWAY).distinct().where(col(\"WL_AWAY\")==\"W\").sort(\"WL_PCT_AWAY\", ascending=False)\n",
        "\n",
        "res7 = res5.join(res6, res5.TEAM_ABBREVIATION_HOME == res6.TEAM_ABBREVIATION_AWAY) \\\n",
        "    .select(col(\"TEAM_ABBREVIATION_HOME\"), col(\"WL_COUNT_HOME\"), col(\"WL_COUNT_AWAY\"), col(\"WL_PCT_HOME\"), col(\"WL_PCT_AWAY\"),\n",
        "            (col(\"WL_PCT_HOME\") - col(\"WL_PCT_AWAY\")).alias(\"HOME-AWAY DIFF\")).sort(\"HOME-AWAY DIFF\", ascending=False)"
      ],
      "metadata": {
        "id": "27nSp4jz9vg1"
      },
      "execution_count": null,
      "outputs": []
    },
    {
      "cell_type": "markdown",
      "source": [
        "# Results"
      ],
      "metadata": {
        "id": "6E4Ag61oUhIb"
      }
    },
    {
      "cell_type": "markdown",
      "source": [
        "Addressing question one, with the win and loss percentage for home teams, we can clearly see that the home team is more likely to win a game."
      ],
      "metadata": {
        "id": "X5uwxqq3pm9u"
      }
    },
    {
      "cell_type": "code",
      "source": [
        "res1.show()"
      ],
      "metadata": {
        "colab": {
          "base_uri": "https://localhost:8080/"
        },
        "id": "nEFsQMS7PCRy",
        "outputId": "cdd4b36d-90d5-4d88-fac7-c0422f3f6c77"
      },
      "execution_count": null,
      "outputs": [
        {
          "output_type": "stream",
          "name": "stdout",
          "text": [
            "+-------+-----------------------------+---------------------------------+\n",
            "|WL_HOME|Win Loss Counts for Home Team|Win Loss Percentage for Home Team|\n",
            "+-------+-----------------------------+---------------------------------+\n",
            "|      L|                         5252|              0.41975703324808183|\n",
            "|      W|                         7260|               0.5802429667519181|\n",
            "+-------+-----------------------------+---------------------------------+\n",
            "\n"
          ]
        }
      ]
    },
    {
      "cell_type": "markdown",
      "source": [
        "Here we have a plot of the counts for wins vs. losses for the home team to show the glaring difference in how much more often the home team wins."
      ],
      "metadata": {
        "id": "YTTyrExtp1W6"
      }
    },
    {
      "cell_type": "code",
      "source": [
        "import matplotlib.pyplot as plt\n",
        "\n",
        "counts = [val.asDict().get(\"Win Loss Counts for Home Team\") for val in res1.select(\"Win Loss Counts for Home Team\").collect()]\n",
        "wl = [val.asDict().get(\"WL_HOME\") for val in res1.select(\"WL_HOME\").collect()]\n",
        "\n",
        "plt.bar(wl, counts)\n",
        "plt.title(\"Counts of Wins and Losses for Home Teams\")\n",
        "plt.show()"
      ],
      "metadata": {
        "colab": {
          "base_uri": "https://localhost:8080/",
          "height": 281
        },
        "id": "8QLXzN4xXHS4",
        "outputId": "aa847565-6344-4c63-b63d-c30fe3e9b5d7"
      },
      "execution_count": null,
      "outputs": [
        {
          "output_type": "display_data",
          "data": {
            "text/plain": [
              "<Figure size 432x288 with 1 Axes>"
            ],
            "image/png": "[encoded data removed]"
          },
          "metadata": {
            "needs_background": "light"
          }
        }
      ]
    },
    {
      "cell_type": "markdown",
      "source": [
        "Next, we have the averages for free throws and fouls for both the home and away team. Here, we can also see that over the thousands of games in this subset of the data, the home team has a higher average of free throws attempted and has less fouls called on them. With such a large sample, this difference is certainly significant."
      ],
      "metadata": {
        "id": "JgNtetnzqJ1A"
      }
    },
    {
      "cell_type": "code",
      "source": [
        "res2.show()"
      ],
      "metadata": {
        "colab": {
          "base_uri": "https://localhost:8080/"
        },
        "id": "LcAl9O_Jb0NL",
        "outputId": "f7d41ccd-6bdf-476c-8d31-866be4e4e28e"
      },
      "execution_count": null,
      "outputs": [
        {
          "output_type": "stream",
          "name": "stdout",
          "text": [
            "+------------------+------------------+-----------------+------------------+\n",
            "|  Home Free Throws|  Away Free Throws|       Home Fouls|        Away Fouls|\n",
            "+------------------+------------------+-----------------+------------------+\n",
            "|23.227613129381773|22.338113448056088|19.82703951561504|20.442399617590823|\n",
            "+------------------+------------------+-----------------+------------------+\n",
            "\n"
          ]
        }
      ]
    },
    {
      "cell_type": "markdown",
      "source": [
        "Here we have another bar plot to show the difference in the averages of free throws and fouls for the home and away team."
      ],
      "metadata": {
        "id": "d0-wneXZqckR"
      }
    },
    {
      "cell_type": "code",
      "source": [
        "keys = res2.collect().pop().asDict().keys()\n",
        "vals = res2.collect().pop().asDict().values()\n",
        "\n",
        "plt.bar(keys, vals)\n",
        "plt.title(\"Average Free Throws and Fouls for Home and Away Teams\")\n",
        "plt.xticks(rotation = 45)\n",
        "plt.show()"
      ],
      "metadata": {
        "colab": {
          "base_uri": "https://localhost:8080/",
          "height": 344
        },
        "id": "iicPyNg7cRyw",
        "outputId": "df11cc4b-67fa-4548-e04e-0f79a670257a"
      },
      "execution_count": null,
      "outputs": [
        {
          "output_type": "display_data",
          "data": {
            "text/plain": [
              "<Figure size 432x288 with 1 Axes>"
            ],
            "image/png": "[encoded data removed]"
          },
          "metadata": {
            "needs_background": "light"
          }
        }
      ]
    },
    {
      "cell_type": "markdown",
      "source": [
        "Looking at how the effects of home court advantage may change due to the games being nationally televised, we compare the win loss percentages for all games next to the nationally televised games. The win percentage is slightly better for nationally televised games. So the effect may be even stronger in nationally televised games."
      ],
      "metadata": {
        "id": "RSPisLuaqsLu"
      }
    },
    {
      "cell_type": "code",
      "source": [
        "res1.join(res3, res1.WL_HOME == res3.WL_HOME).select(res1[\"WL_HOME\"].alias(\"Result\"), res1[\"Win Loss Percentage for Home Team\"].alias(\"Percentage\"), \n",
        "                                                     res3[\"Win Loss Percentage for Home Team\"].alias(\"National TV Percentage\")).show()"
      ],
      "metadata": {
        "colab": {
          "base_uri": "https://localhost:8080/"
        },
        "id": "Re_-uAFbdt2k",
        "outputId": "f889c9dd-5f11-44a7-813c-bf80d8436b97"
      },
      "execution_count": null,
      "outputs": [
        {
          "output_type": "stream",
          "name": "stdout",
          "text": [
            "+------+-------------------+----------------------+\n",
            "|Result|         Percentage|National TV Percentage|\n",
            "+------+-------------------+----------------------+\n",
            "|     L|0.41975703324808183|   0.40619240692959824|\n",
            "|     W| 0.5802429667519181|    0.5938075930704018|\n",
            "+------+-------------------+----------------------+\n",
            "\n"
          ]
        }
      ]
    },
    {
      "cell_type": "markdown",
      "source": [
        "Looking at the win percentages for the home team for each broadcaster individually, we see that the win percentages are better for all the broadcasters with the exception of ESPN. That said, this win percentage is only slightly worse than the overall win percentage."
      ],
      "metadata": {
        "id": "-iSt2DrhrHvf"
      }
    },
    {
      "cell_type": "code",
      "source": [
        "res4.where(col(\"WL_HOME\") == \"W\").select(col(\"NATL_TV_BROADCASTER_ABBR\").alias(\"National TV Broadcaster\"),\n",
        "                                         col(\"GAME_COUNT\").alias(\"Games Played\"),\n",
        "                                         col(\"WL_PCT\").alias(\"Home Win Percentage\")).show()"
      ],
      "metadata": {
        "colab": {
          "base_uri": "https://localhost:8080/"
        },
        "id": "vwyJxxUlgXhM",
        "outputId": "36edb3eb-84f3-4894-acc7-5ea160d22da5"
      },
      "execution_count": null,
      "outputs": [
        {
          "output_type": "stream",
          "name": "stdout",
          "text": [
            "+-----------------------+------------+-------------------+\n",
            "|National TV Broadcaster|Games Played|Home Win Percentage|\n",
            "+-----------------------+------------+-------------------+\n",
            "|                    ABC|         173| 0.5953757225433526|\n",
            "|               ABC/ESPN|           1|                1.0|\n",
            "|                   ALT2|           1|                1.0|\n",
            "|                   ESPN|         837| 0.5758661887694145|\n",
            "|                  ESPN2|           3| 0.6666666666666666|\n",
            "|                 NBA TV|        1079| 0.6005560704355886|\n",
            "|                    TNT|         612| 0.6111111111111112|\n",
            "+-----------------------+------------+-------------------+\n",
            "\n"
          ]
        }
      ]
    },
    {
      "cell_type": "markdown",
      "source": [
        "Looking at the win loss percentages for home and away teams and the difference between the two, we see that Portland, Denver and San Antonio have the largest differential, indicating that they may benefit the most from playing at home. In contrast, Pheonix, New Orleans (Hornets) and New Jersey (Nets) had the worst differential, indicating that they may have had the least benefit from playing at home."
      ],
      "metadata": {
        "id": "d_3hIy5prsva"
      }
    },
    {
      "cell_type": "code",
      "source": [
        "res7.show(n=10)"
      ],
      "metadata": {
        "colab": {
          "base_uri": "https://localhost:8080/"
        },
        "id": "qiEwBH_birO6",
        "outputId": "704b1134-b4e8-45e5-eb73-a4a6797493cf"
      },
      "execution_count": null,
      "outputs": [
        {
          "output_type": "stream",
          "name": "stdout",
          "text": [
            "+----------------------+-------------+-------------+------------------+-------------------+-------------------+\n",
            "|TEAM_ABBREVIATION_HOME|WL_COUNT_HOME|WL_COUNT_AWAY|       WL_PCT_HOME|        WL_PCT_AWAY|     HOME-AWAY DIFF|\n",
            "+----------------------+-------------+-------------+------------------+-------------------+-------------------+\n",
            "|                   POR|          278|          183|0.6634844868735084|0.43884892086330934|0.22463556601019902|\n",
            "|                   DEN|          275|          182|0.6594724220623501|0.43855421686746987|0.22091820519488026|\n",
            "|                   SAS|          315|          230|0.7664233576642335|  0.548926014319809| 0.2174973433444245|\n",
            "|                   UTA|          262|          177|0.6390243902439025|0.42650602409638555| 0.2125183661475169|\n",
            "|                   PHI|          227|          140|0.5417661097852029|0.33573141486810554|0.20603469491709736|\n",
            "|                   DET|          211|          127|0.5059952038369304| 0.3060240963855422|0.19997110745138824|\n",
            "|                   IND|          275|          195|0.6610576923076923|0.46318289786223277|0.19787479444545952|\n",
            "|                   MEM|          263|          184|0.6261904761904762| 0.4433734939759036| 0.1828169822145726|\n",
            "|                   WAS|          241|          162| 0.546485260770975| 0.3741339491916859|0.17235131157928912|\n",
            "|                   ATL|          241|          169|0.5793269230769231| 0.4092009685230024| 0.1701259545539207|\n",
            "+----------------------+-------------+-------------+------------------+-------------------+-------------------+\n",
            "only showing top 10 rows\n",
            "\n"
          ]
        }
      ]
    },
    {
      "cell_type": "code",
      "source": [
        "res7.sort(col(\"HOME-AWAY DIFF\"), ascending=True).show(n=10)"
      ],
      "metadata": {
        "colab": {
          "base_uri": "https://localhost:8080/"
        },
        "id": "AmoA-pgYi580",
        "outputId": "aa58323b-b02c-4936-b75d-a086240fd863"
      },
      "execution_count": null,
      "outputs": [
        {
          "output_type": "stream",
          "name": "stdout",
          "text": [
            "+----------------------+-------------+-------------+-------------------+-------------------+-------------------+\n",
            "|TEAM_ABBREVIATION_HOME|WL_COUNT_HOME|WL_COUNT_AWAY|        WL_PCT_HOME|        WL_PCT_AWAY|     HOME-AWAY DIFF|\n",
            "+----------------------+-------------+-------------+-------------------+-------------------+-------------------+\n",
            "|                   PHX|          190|          150|0.45454545454545453| 0.3614457831325301|0.09309967141292441|\n",
            "|                   NOH|           42|           33|0.42857142857142855| 0.3333333333333333|0.09523809523809523|\n",
            "|                   NJN|           22|           15| 0.3728813559322034|0.26785714285714285|0.10502421307506055|\n",
            "|                   CHI|          233|          187| 0.5600961538461539| 0.4506024096385542|0.10949374420759966|\n",
            "|                   SAC|          179|          134| 0.4387254901960784| 0.3175355450236967|0.12118994517238174|\n",
            "|                   LAL|          214|          160| 0.5169082125603864| 0.3883495145631068|0.12855869799727965|\n",
            "|                   NYK|          199|          142|0.47721822541966424| 0.3446601941747573|0.13255803124490695|\n",
            "|                   DAL|          239|          186| 0.5745192307692307| 0.4418052256532066| 0.1327140051160241|\n",
            "|                   GSW|          285|          230| 0.6934306569343066|  0.559610705596107|0.13381995133819957|\n",
            "|                   BKN|          189|          141| 0.5192307692307693|0.38524590163934425|0.13398486759142503|\n",
            "+----------------------+-------------+-------------+-------------------+-------------------+-------------------+\n",
            "only showing top 10 rows\n",
            "\n"
          ]
        }
      ]
    },
    {
      "cell_type": "markdown",
      "source": [
        "# Conclusion"
      ],
      "metadata": {
        "id": "RqnjWD4XUhPn"
      }
    },
    {
      "cell_type": "markdown",
      "source": [
        "Not surprisingly, we can clearly see that there is a significant advantage of playing at home. Win percentages across the league in all games, local and nationally broadcast, for every team are better for the home team. With slightly better win percentages in nationally broadcast games, it may be the case that home court advantage is even more glaring when the pressure is greater and the entire country is watching. This effect is also certainly different depending on the team. While every team has better win percentages at home than away, the difference in those percentages vary greatly between all the teams. This would indicate that there is something to the theory that team's home stadiums and fanbases have varying levels of impact on their teams success at home. \n",
        "\n",
        "Another common theory is that referees call games differently for home teams. With the home team having more free throws on average and less fouls called on them on average, this theory would seem to be somewhat true. Although the difference in the averages may seem minor, with a sample size of over ten thousand games, this difference is likely statistically significant. \n",
        "\n",
        "Overall, in all areas of the data that we observed, there is a strong indication that there is a significant advantage of playing at home."
      ],
      "metadata": {
        "id": "RoXJTFLTsnYn"
      }
    }
  ]
}